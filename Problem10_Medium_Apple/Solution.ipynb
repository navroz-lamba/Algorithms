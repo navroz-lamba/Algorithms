{
 "cells": [
  {
   "cell_type": "markdown",
   "metadata": {},
   "source": [
    "We can implement the job scheduler in many different ways, so don't worry if your solution is different from ours. Here is just one way:\n",
    "\n",
    "First, let's try the most straightforward solution. That would probably be to spin off a new thread on each function we want to delay, sleep the requested amount, and then run the function. It might look something like this:"
   ]
  },
  {
   "cell_type": "code",
   "execution_count": 1,
   "metadata": {},
   "outputs": [],
   "source": [
    "import threading\n",
    "from time import sleep\n",
    "\n",
    "class Scheduler:\n",
    "    def __init__(self):\n",
    "        pass\n",
    "\n",
    "    def delay(self, f, n):\n",
    "        def sleep_then_call(n):\n",
    "            sleep(n / 1000)\n",
    "            f()\n",
    "        t = threading.Thread(target=sleep_then_call)\n",
    "        t.start()"
   ]
  },
  {
   "cell_type": "markdown",
   "metadata": {},
   "source": [
    "While this works, there is a huge problem with this method: we spin off a new thread each time we call delay! That means the number of threads we use could easily explode. We can get around this by having only one dedicated thread to call the functions, and storing the functions we need to call in some data structure. In this case, we use a list. We also have to do some sort of polling now to check when to run a function. We can store each function along with a unix epoch timestamp that tells it when it should run by. Then we'll poll some designated tick amount and check the list for any jobs that are due to be run, run them, and then remove them from the list."
   ]
  },
  {
   "cell_type": "code",
   "execution_count": 2,
   "metadata": {},
   "outputs": [],
   "source": [
    "from time import sleep\n",
    "import threading\n",
    "\n",
    "class Scheduler:\n",
    "    def __init__(self):\n",
    "        self.fns = [] # tuple of (fn, time)\n",
    "        t = threading.Thread(target=self.poll)\n",
    "        t.start()\n",
    "\n",
    "    def poll(self):\n",
    "        while True:\n",
    "            now = time() * 1000\n",
    "            for fn, due in self.fns:\n",
    "                if now > due:\n",
    "                    fn()\n",
    "            self.fns = [(fn, due) for (fn, due) in self.fns if due > now]\n",
    "            sleep(0.01)\n",
    "\n",
    "    def delay(self, f, n):\n",
    "        self.fns.append((f, time() * 1000 + n))\n"
   ]
  },
  {
   "cell_type": "markdown",
   "metadata": {},
   "source": [
    "We'll stop here, but you can go much farther with this. Some extra credit work:\n",
    "\n",
    "Extend the scheduler to allow calling delayed functions with variables\n",
    "\n",
    "Use a heap instead of a list to keep track of the next job to run more efficiently\n",
    "\n",
    "Use a condition variable instead of polling (it just polls lower in the stack)\n",
    "\n",
    "Use a threadpool or other mechanism to decrease the chance of starvation (one thread not being able to run because of another running thread)"
   ]
  }
 ],
 "metadata": {
  "kernelspec": {
   "display_name": "Python 3",
   "language": "python",
   "name": "python3"
  },
  "language_info": {
   "codemirror_mode": {
    "name": "ipython",
    "version": 3
   },
   "file_extension": ".py",
   "mimetype": "text/x-python",
   "name": "python",
   "nbconvert_exporter": "python",
   "pygments_lexer": "ipython3",
   "version": "3.8.3"
  },
  "toc": {
   "base_numbering": 1,
   "nav_menu": {},
   "number_sections": true,
   "sideBar": true,
   "skip_h1_title": false,
   "title_cell": "Table of Contents",
   "title_sidebar": "Contents",
   "toc_cell": false,
   "toc_position": {},
   "toc_section_display": true,
   "toc_window_display": false
  },
  "varInspector": {
   "cols": {
    "lenName": 16,
    "lenType": 16,
    "lenVar": 40
   },
   "kernels_config": {
    "python": {
     "delete_cmd_postfix": "",
     "delete_cmd_prefix": "del ",
     "library": "var_list.py",
     "varRefreshCmd": "print(var_dic_list())"
    },
    "r": {
     "delete_cmd_postfix": ") ",
     "delete_cmd_prefix": "rm(",
     "library": "var_list.r",
     "varRefreshCmd": "cat(var_dic_list()) "
    }
   },
   "types_to_exclude": [
    "module",
    "function",
    "builtin_function_or_method",
    "instance",
    "_Feature"
   ],
   "window_display": false
  }
 },
 "nbformat": 4,
 "nbformat_minor": 4
}
