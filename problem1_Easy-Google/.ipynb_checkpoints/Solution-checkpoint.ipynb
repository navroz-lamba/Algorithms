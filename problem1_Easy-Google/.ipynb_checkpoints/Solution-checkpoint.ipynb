{
 "cells": [
  {
   "cell_type": "markdown",
   "metadata": {},
   "source": [
    "**Problem**\n",
    "\n",
    "This problem was recently asked by **Google**.\n",
    "\n",
    "Given a list of numbers and a number k, return whether any two numbers from the list add up to k.\n",
    "\n",
    "For example, given [10, 15, 3, 7] and k of 17, return true since 10 + 7 is 17.\n",
    "\n",
    "Bonus: Can you do this in one pass?"
   ]
  },
  {
   "cell_type": "markdown",
   "metadata": {},
   "source": [
    "**Solution:**"
   ]
  },
  {
   "cell_type": "markdown",
   "metadata": {},
   "source": [
    "Brute force way would involve a nested iteration to check for every pair of numbers:"
   ]
  },
  {
   "cell_type": "code",
   "execution_count": 26,
   "metadata": {},
   "outputs": [],
   "source": [
    "def two_sum(lst, k):\n",
    "    for i in range(len(lst)):\n",
    "        for j in range(len(lst)):\n",
    "            if i != j and lst[i] + lst[j] == k:\n",
    "                return True\n",
    "    return False"
   ]
  },
  {
   "cell_type": "markdown",
   "metadata": {},
   "source": [
    "This would take O(N2). Another way is to use a set to remember the numbers we've seen so far. \n",
    "Then for a given number, we can check if there is another number that, if added, would sum to k. \n",
    "This would be O(N) since lookups of sets are O(1) each."
   ]
  },
  {
   "cell_type": "code",
   "execution_count": 27,
   "metadata": {},
   "outputs": [],
   "source": [
    "def two_sum(lst, k):\n",
    "    seen = set()\n",
    "    for num in lst:\n",
    "        if k - num in seen:\n",
    "            return True\n",
    "        seen.add(num)\n",
    "    return False"
   ]
  },
  {
   "cell_type": "markdown",
   "metadata": {},
   "source": [
    "Yet another solution involves sorting the list. We can then iterate through the list and \n",
    "run a binary search on K - lst[i]. \n",
    "Since we run binary search on N elements, this would take O(N log N) with O(1) space."
   ]
  },
  {
   "cell_type": "code",
   "execution_count": 24,
   "metadata": {},
   "outputs": [],
   "source": [
    "from bisect import bisect_left\n",
    "\n",
    "\n",
    "def two_sum(lst, K):\n",
    "    lst.sort()\n",
    "\n",
    "    for i in range(len(lst)):\n",
    "        target = K - lst[i]\n",
    "        j = binary_search(lst, target)\n",
    "\n",
    "        # Check that binary search found the target and that it's not in the same index\n",
    "        # as i. If it is in the same index, we can check lst[i + 1] and lst[i - 1] to see\n",
    "        #  if there's another number that's the same value as lst[i].\n",
    "        if j == -1:\n",
    "            continue\n",
    "        elif j != i:\n",
    "            return True\n",
    "        elif j + 1 < len(lst) and lst[j + 1] == target:\n",
    "            return True\n",
    "        elif j - 1 >= 0 and lst[j - 1] == target:\n",
    "            return True\n",
    "    return False\n",
    "\n",
    "def binary_search(lst, target):\n",
    "    lo = 0\n",
    "    hi = len(lst)\n",
    "    ind = bisect_left(lst, target, lo, hi)\n",
    "\n",
    "    if 0 <= ind < hi and lst[ind] == target:\n",
    "        return ind\n",
    "    return -1"
   ]
  }
 ],
 "metadata": {
  "kernelspec": {
   "display_name": "Python 3",
   "language": "python",
   "name": "python3"
  },
  "language_info": {
   "codemirror_mode": {
    "name": "ipython",
    "version": 3
   },
   "file_extension": ".py",
   "mimetype": "text/x-python",
   "name": "python",
   "nbconvert_exporter": "python",
   "pygments_lexer": "ipython3",
   "version": "3.8.3"
  },
  "toc": {
   "base_numbering": 1,
   "nav_menu": {},
   "number_sections": true,
   "sideBar": true,
   "skip_h1_title": false,
   "title_cell": "Table of Contents",
   "title_sidebar": "Contents",
   "toc_cell": false,
   "toc_position": {},
   "toc_section_display": true,
   "toc_window_display": false
  },
  "varInspector": {
   "cols": {
    "lenName": 16,
    "lenType": 16,
    "lenVar": 40
   },
   "kernels_config": {
    "python": {
     "delete_cmd_postfix": "",
     "delete_cmd_prefix": "del ",
     "library": "var_list.py",
     "varRefreshCmd": "print(var_dic_list())"
    },
    "r": {
     "delete_cmd_postfix": ") ",
     "delete_cmd_prefix": "rm(",
     "library": "var_list.r",
     "varRefreshCmd": "cat(var_dic_list()) "
    }
   },
   "types_to_exclude": [
    "module",
    "function",
    "builtin_function_or_method",
    "instance",
    "_Feature"
   ],
   "window_display": false
  }
 },
 "nbformat": 4,
 "nbformat_minor": 4
}
