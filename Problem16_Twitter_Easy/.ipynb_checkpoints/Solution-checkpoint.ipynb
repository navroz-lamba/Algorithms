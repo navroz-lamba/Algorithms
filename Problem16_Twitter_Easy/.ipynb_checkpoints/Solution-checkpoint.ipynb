{
 "cells": [
  {
   "cell_type": "code",
   "execution_count": null,
   "metadata": {},
   "outputs": [],
   "source": [
    " \"\"\"It seems like an array would be the perfect fit for this problem. \n",
    "We can just initialize the array to have size N, and index it in constant time. \n",
    "Then, when we record any orders, we can pop off the first order and append it to the end. \n",
    "Getting the ith last order would then just be indexing the array at length - i.\"\"\""
   ]
  },
  {
   "cell_type": "code",
   "execution_count": 1,
   "metadata": {},
   "outputs": [],
   "source": [
    "class Log(object):\n",
    "    def __init__(self, n):\n",
    "        self._log = []\n",
    "        self.n = n\n",
    "\n",
    "    def record(self, order_id):\n",
    "        if len(self._log) >= self.n:\n",
    "            self._log.pop(0)\n",
    "        self._log.append(order_id)\n",
    "\n",
    "    def get_last(self, i):\n",
    "        return self._log[-i]"
   ]
  },
  {
   "cell_type": "code",
   "execution_count": null,
   "metadata": {},
   "outputs": [],
   "source": [
    "\"\"\"This is one issue with this solution, however: when we have to pop off an element when the array is full, we have to move every other element down by 1. \n",
    "That means record takes O(N) time. How can we improve this?\n",
    "What we can do to avoid having to moving every element down by 1 is to keep a current index and move it up each time we record something. \n",
    "For get_last, we can simply take current - i to get the appropriate element. Now, both record and get_last should take constant time.\"\"\""
   ]
  },
  {
   "cell_type": "code",
   "execution_count": 2,
   "metadata": {},
   "outputs": [],
   "source": [
    "class Log(object):\n",
    "    def __init__(self, n):\n",
    "        self.n = n\n",
    "        self._log = []\n",
    "        self._cur = 0\n",
    "\n",
    "    def record(self, order_id):\n",
    "        if len(self._log) == self.n:\n",
    "            self._log[self._cur] = order_id\n",
    "        else:\n",
    "            self._log.append(order_id)\n",
    "        self._cur = (self._cur + 1) % self.n\n",
    "\n",
    "    def get_last(self, i):\n",
    "        return self._log[self._cur - i]"
   ]
  },
  {
   "cell_type": "code",
   "execution_count": null,
   "metadata": {},
   "outputs": [],
   "source": [
    "# By the way, this is called a ring buffer or circular buffer!"
   ]
  }
 ],
 "metadata": {
  "kernelspec": {
   "display_name": "Python 3",
   "language": "python",
   "name": "python3"
  },
  "language_info": {
   "codemirror_mode": {
    "name": "ipython",
    "version": 3
   },
   "file_extension": ".py",
   "mimetype": "text/x-python",
   "name": "python",
   "nbconvert_exporter": "python",
   "pygments_lexer": "ipython3",
   "version": "3.8.3"
  },
  "toc": {
   "base_numbering": 1,
   "nav_menu": {},
   "number_sections": true,
   "sideBar": true,
   "skip_h1_title": false,
   "title_cell": "Table of Contents",
   "title_sidebar": "Contents",
   "toc_cell": false,
   "toc_position": {},
   "toc_section_display": true,
   "toc_window_display": false
  },
  "varInspector": {
   "cols": {
    "lenName": 16,
    "lenType": 16,
    "lenVar": 40
   },
   "kernels_config": {
    "python": {
     "delete_cmd_postfix": "",
     "delete_cmd_prefix": "del ",
     "library": "var_list.py",
     "varRefreshCmd": "print(var_dic_list())"
    },
    "r": {
     "delete_cmd_postfix": ") ",
     "delete_cmd_prefix": "rm(",
     "library": "var_list.r",
     "varRefreshCmd": "cat(var_dic_list()) "
    }
   },
   "types_to_exclude": [
    "module",
    "function",
    "builtin_function_or_method",
    "instance",
    "_Feature"
   ],
   "window_display": false
  }
 },
 "nbformat": 4,
 "nbformat_minor": 4
}
