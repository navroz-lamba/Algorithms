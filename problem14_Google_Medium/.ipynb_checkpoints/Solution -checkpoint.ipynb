{
 "cells": [
  {
   "cell_type": "code",
   "execution_count": null,
   "metadata": {},
   "outputs": [],
   "source": [
    "\"\"\"Monte Carlo methods rely on random sampling. In this case, if we take a cartesian plane and inscribe a circle with radius r inside a square with lengths 2r, then the area of the circle will be πr2 while the area of the square will be (2r)2 = 4r2. Then, the ratio of the areas of the circle to the square is π / 4.\n",
    "\n",
    "So, what we can do is the following:\n",
    "\n",
    "Set r to be 1 (the unit circle)\n",
    "Randomly generate points within the square with corners (-1, -1), (1, 1), (1, -1), (-1, 1)\n",
    "Keep track of the points that fall inside and outside the circle\n",
    "You can check whether a point (x, y) is inside the circle if x2 + y2 < r2, which is another way of representing a circle\n",
    "Divide the number of points that fall inside the circle to the total number of points -- that should give us an approximation of π / 4.\"\"\""
   ]
  },
  {
   "cell_type": "code",
   "execution_count": 2,
   "metadata": {},
   "outputs": [],
   "source": [
    "from random import uniform\n",
    "from math import pow\n",
    "\n",
    "def generate():\n",
    "    return (uniform(-1, 1), uniform(-1, 1))\n",
    "\n",
    "def is_in_circle(coords):\n",
    "    return coords[0] * coords[0] + coords[1] * coords[1] < 1\n",
    "\n",
    "def estimate():\n",
    "    iterations = 10000000\n",
    "    in_circle = 0\n",
    "    for _ in range(iterations):\n",
    "        if is_in_circle(generate()):\n",
    "            in_circle += 1\n",
    "    pi_over_four = in_circle / iterations\n",
    "    return pi_over_four * 4"
   ]
  },
  {
   "cell_type": "markdown",
   "metadata": {},
   "source": [
    "\"\"\"Note that this doesn't give a perfect approximation -- we need more iterations to get a closer estimate. We want the digits of pi up to 3 decimal places. This translates to an error of < 10^(-3). The error scales with the square root of the number of guesses, which means we need 10^6 iterations to get to our desired precision. If we want more precision, we'll have to crank up the iterations.\n",
    "\n",
    "This problem _is_ embarrassingly parallel. None of the estimations have any dependent computations, so we can parallelize this problem easily -- divide up the workload into P processes you have, and then add up all the points in the circle in the end. Extra credit: make this program multi-process.\"\"\""
   ]
  }
 ],
 "metadata": {
  "kernelspec": {
   "display_name": "Python 3",
   "language": "python",
   "name": "python3"
  },
  "language_info": {
   "codemirror_mode": {
    "name": "ipython",
    "version": 3
   },
   "file_extension": ".py",
   "mimetype": "text/x-python",
   "name": "python",
   "nbconvert_exporter": "python",
   "pygments_lexer": "ipython3",
   "version": "3.8.3"
  },
  "toc": {
   "base_numbering": 1,
   "nav_menu": {},
   "number_sections": true,
   "sideBar": true,
   "skip_h1_title": false,
   "title_cell": "Table of Contents",
   "title_sidebar": "Contents",
   "toc_cell": false,
   "toc_position": {},
   "toc_section_display": true,
   "toc_window_display": false
  },
  "varInspector": {
   "cols": {
    "lenName": 16,
    "lenType": 16,
    "lenVar": 40
   },
   "kernels_config": {
    "python": {
     "delete_cmd_postfix": "",
     "delete_cmd_prefix": "del ",
     "library": "var_list.py",
     "varRefreshCmd": "print(var_dic_list())"
    },
    "r": {
     "delete_cmd_postfix": ") ",
     "delete_cmd_prefix": "rm(",
     "library": "var_list.r",
     "varRefreshCmd": "cat(var_dic_list()) "
    }
   },
   "types_to_exclude": [
    "module",
    "function",
    "builtin_function_or_method",
    "instance",
    "_Feature"
   ],
   "window_display": false
  }
 },
 "nbformat": 4,
 "nbformat_minor": 4
}
