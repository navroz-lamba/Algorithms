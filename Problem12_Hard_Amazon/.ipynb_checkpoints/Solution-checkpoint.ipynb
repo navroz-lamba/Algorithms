{
 "cells": [
  {
   "cell_type": "code",
   "execution_count": null,
   "metadata": {},
   "outputs": [],
   "source": [
    "\"\"\"It's always good to start off with some test cases. Let's start with small cases and see if we can find some sort of pattern.\n",
    "\n",
    "N = 1: [1]\n",
    "N = 2: [1, 1], [2]\n",
    "N = 3: [1, 2], [1, 1, 1], [2, 1]\n",
    "N = 4: [1, 1, 2], [2, 2], [1, 2, 1], [1, 1, 1, 1], [2, 1, 1]\n",
    "What's the relationship?\n",
    "\n",
    "The only ways to get to N = 3, is to first get to N = 1, and then go up by 2 steps, or get to N = 2 and go up by 1 step. So f(3) = f(2) + f(1).\n",
    "\n",
    "Does this hold for N = 4? Yes, it does. Since we can only get to the 4th step by getting to the 3rd step and going up by one, or by getting to the 2nd step and going up by two. So f(4) = f(3) + f(2).\n",
    "\n",
    "To generalize, f(n) = f(n - 1) + f(n - 2). That's just the Fibonacci sequence!\"\"\"\n",
    "\n"
   ]
  },
  {
   "cell_type": "code",
   "execution_count": 1,
   "metadata": {},
   "outputs": [],
   "source": [
    "def staircase(n):\n",
    "    if n <= 1:\n",
    "        return 1\n",
    "    return staircase(n - 1) + staircase(n - 2)"
   ]
  },
  {
   "cell_type": "markdown",
   "metadata": {},
   "source": [
    "Of course, this is really slow (O(2N)) — we are doing a lot of repeated computations! We can do it a lot faster by just computing iteratively:"
   ]
  },
  {
   "cell_type": "code",
   "execution_count": 2,
   "metadata": {},
   "outputs": [],
   "source": [
    "def staircase(n):\n",
    "    a, b = 1, 2\n",
    "    for _ in range(n - 1):\n",
    "        a, b = b, a + b\n",
    "    return a"
   ]
  },
  {
   "cell_type": "code",
   "execution_count": null,
   "metadata": {},
   "outputs": [],
   "source": [
    "\"\"\"Now, let's try to generalize what we've learned so that it works if you can take a number of steps from the set X. \n",
    "Similar reasoning tells us that if X = {1, 3, 5}, then our algorithm should be f(n) = f(n - 1) + f(n - 3) + f(n - 5). \n",
    "If n < 0, then we should return 0 since we can't start from a negative number of steps.\"\"\""
   ]
  },
  {
   "cell_type": "code",
   "execution_count": 3,
   "metadata": {},
   "outputs": [],
   "source": [
    "def staircase(n, X):\n",
    "    if n < 0:\n",
    "        return 0\n",
    "    elif n == 0:\n",
    "        return 1\n",
    "    else:\n",
    "        return sum(staircase(n - x, X) for x in X)"
   ]
  },
  {
   "cell_type": "code",
   "execution_count": null,
   "metadata": {},
   "outputs": [],
   "source": [
    "\"\"\"This is again, very slow (O(|X|N)) since we are repeating computations again. We can use dynamic programming to speed it up.\n",
    "\n",
    "Each entry cache[i] will contain the number of ways we can get to step i with the set X. \n",
    "Then, we'll build up the array from zero using the same recurrence as before:\"\"\""
   ]
  },
  {
   "cell_type": "code",
   "execution_count": 4,
   "metadata": {},
   "outputs": [],
   "source": [
    "def staircase(n, X):\n",
    "    cache = [0 for _ in range(n + 1)]\n",
    "    cache[0] = 1\n",
    "    for i in range(1, n + 1):\n",
    "        cache[i] += sum(cache[i - x] for x in X if i - x >= 0)\n",
    "    return cache[n]"
   ]
  },
  {
   "cell_type": "markdown",
   "metadata": {},
   "source": [
    "This now takes O(N * |X|) time and O(N) space."
   ]
  },
  {
   "cell_type": "code",
   "execution_count": null,
   "metadata": {},
   "outputs": [],
   "source": []
  }
 ],
 "metadata": {
  "kernelspec": {
   "display_name": "Python 3",
   "language": "python",
   "name": "python3"
  },
  "language_info": {
   "codemirror_mode": {
    "name": "ipython",
    "version": 3
   },
   "file_extension": ".py",
   "mimetype": "text/x-python",
   "name": "python",
   "nbconvert_exporter": "python",
   "pygments_lexer": "ipython3",
   "version": "3.8.3"
  },
  "toc": {
   "base_numbering": 1,
   "nav_menu": {},
   "number_sections": true,
   "sideBar": true,
   "skip_h1_title": false,
   "title_cell": "Table of Contents",
   "title_sidebar": "Contents",
   "toc_cell": false,
   "toc_position": {},
   "toc_section_display": true,
   "toc_window_display": false
  },
  "varInspector": {
   "cols": {
    "lenName": 16,
    "lenType": 16,
    "lenVar": 40
   },
   "kernels_config": {
    "python": {
     "delete_cmd_postfix": "",
     "delete_cmd_prefix": "del ",
     "library": "var_list.py",
     "varRefreshCmd": "print(var_dic_list())"
    },
    "r": {
     "delete_cmd_postfix": ") ",
     "delete_cmd_prefix": "rm(",
     "library": "var_list.r",
     "varRefreshCmd": "cat(var_dic_list()) "
    }
   },
   "types_to_exclude": [
    "module",
    "function",
    "builtin_function_or_method",
    "instance",
    "_Feature"
   ],
   "window_display": false
  }
 },
 "nbformat": 4,
 "nbformat_minor": 4
}
