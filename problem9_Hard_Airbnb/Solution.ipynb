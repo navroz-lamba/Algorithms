{
 "cells": [
  {
   "cell_type": "markdown",
   "metadata": {},
   "source": [
    "This problem seems easy from the surface, but is actually quite tricky. It's tempting to try to use a greedy strategy like pick the largest number (or first), then the 2nd-largest if it's non-adjacent and so on, but these don't work -- there will always be some edge case that breaks it.\n",
    "\n",
    "Instead, we should look at this problem recursively. Say we had a function that already returns the largest sum of non-adjacent integers on smaller inputs. How could we use it to figure out what we want?\n",
    "\n",
    "Say we used this function on our array from a[1:] and a[2:]. Then our solution should be a[1:] OR a[0] + a[2:], whichever is largest. This is because choosing a[1:] precludes us from picking a[0]. So, we could write a straightforward recursive solution like this:"
   ]
  },
  {
   "cell_type": "code",
   "execution_count": 1,
   "metadata": {},
   "outputs": [],
   "source": [
    "def largest_non_adjacent(arr):\n",
    "    if not arr:\n",
    "        return 0\n",
    "\n",
    "    return max(\n",
    "            largest_non_adjacent(arr[1:]),\n",
    "            arr[0] + largest_non_adjacent(arr[2:]))"
   ]
  },
  {
   "cell_type": "markdown",
   "metadata": {},
   "source": [
    "However, this solution runs in O(2n) time, since with each call, we're making two further recursive calls. We could memoize the results, or use dynamic programming to store, in an array, the largest sum of non-adjacent numbers from index 0 up to that point. Like so:"
   ]
  },
  {
   "cell_type": "code",
   "execution_count": 2,
   "metadata": {},
   "outputs": [],
   "source": [
    "def largest_non_adjacent(arr):\n",
    "    if len(arr) <= 2:\n",
    "        return max(0, max(arr))\n",
    "\n",
    "    cache = [0 for i in arr]\n",
    "    cache[0] = max(0, arr[0])\n",
    "    cache[1] = max(cache[0], arr[1])\n",
    "\n",
    "    for i in range(2, len(arr)):\n",
    "        num = arr[i]\n",
    "        cache[i] = max(num + cache[i - 2], cache[i - 1])\n",
    "    return cache[-1]"
   ]
  },
  {
   "cell_type": "markdown",
   "metadata": {},
   "source": [
    "This code should run in O(n) and in O(n) space. But we can improve this even further. Notice that we only ever use the last two elements of the cache when iterating through the array. This suggests that we could just get rid of most of the array and just store them as variables:"
   ]
  },
  {
   "cell_type": "code",
   "execution_count": 3,
   "metadata": {},
   "outputs": [],
   "source": [
    "def largest_non_adjacent(arr):\n",
    "    if len(arr) <= 2:\n",
    "        return max(0, max(arr))\n",
    "\n",
    "    max_excluding_last= max(0, arr[0])\n",
    "    max_including_last = max(max_excluding_last, arr[1])\n",
    "\n",
    "    for num in arr[2:]:\n",
    "        prev_max_including_last = max_including_last\n",
    "\n",
    "        max_including_last = max(max_including_last, max_excluding_last + num)\n",
    "        max_excluding_last = prev_max_including_last\n",
    "\n",
    "    return max(max_including_last, max_excluding_last)"
   ]
  },
  {
   "cell_type": "code",
   "execution_count": null,
   "metadata": {},
   "outputs": [],
   "source": []
  }
 ],
 "metadata": {
  "kernelspec": {
   "display_name": "Python 3",
   "language": "python",
   "name": "python3"
  },
  "language_info": {
   "codemirror_mode": {
    "name": "ipython",
    "version": 3
   },
   "file_extension": ".py",
   "mimetype": "text/x-python",
   "name": "python",
   "nbconvert_exporter": "python",
   "pygments_lexer": "ipython3",
   "version": "3.8.3"
  },
  "toc": {
   "base_numbering": 1,
   "nav_menu": {},
   "number_sections": true,
   "sideBar": true,
   "skip_h1_title": false,
   "title_cell": "Table of Contents",
   "title_sidebar": "Contents",
   "toc_cell": false,
   "toc_position": {},
   "toc_section_display": true,
   "toc_window_display": false
  },
  "varInspector": {
   "cols": {
    "lenName": 16,
    "lenType": 16,
    "lenVar": 40
   },
   "kernels_config": {
    "python": {
     "delete_cmd_postfix": "",
     "delete_cmd_prefix": "del ",
     "library": "var_list.py",
     "varRefreshCmd": "print(var_dic_list())"
    },
    "r": {
     "delete_cmd_postfix": ") ",
     "delete_cmd_prefix": "rm(",
     "library": "var_list.r",
     "varRefreshCmd": "cat(var_dic_list()) "
    }
   },
   "types_to_exclude": [
    "module",
    "function",
    "builtin_function_or_method",
    "instance",
    "_Feature"
   ],
   "window_display": false
  }
 },
 "nbformat": 4,
 "nbformat_minor": 4
}
