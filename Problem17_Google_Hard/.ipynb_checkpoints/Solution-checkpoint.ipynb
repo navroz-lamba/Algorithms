{
 "cells": [
  {
   "cell_type": "code",
   "execution_count": null,
   "metadata": {},
   "outputs": [],
   "source": [
    "\"\"\"There are two steps in solving this question: we must first parse the string representing the file system and then get the longest absolute path to a file.\n",
    "\n",
    "Step 1: Parsing the file system\n",
    "Ideally, we would initially parse the string given into a dictionary of some sort. That would mean a string like:\n",
    "\n",
    "dir\\n\\tsubdir1\\n\\t\\tfile1.ext\\n\\t\\tsubsubdir1\\n\\tsubdir2\\n\\t\\tsubsubdir2\\n\\t\\t\\tfile2.ext\n",
    "would become:\"\"\""
   ]
  },
  {
   "cell_type": "code",
   "execution_count": 1,
   "metadata": {},
   "outputs": [
    {
     "data": {
      "text/plain": [
       "{'dir': {'subdir1': {'file1.ext': True, 'subsubdir1': {}},\n",
       "  'subdir2': {'subsubdir2': {'file2.ext': True}}}}"
      ]
     },
     "execution_count": 1,
     "metadata": {},
     "output_type": "execute_result"
    }
   ],
   "source": [
    "{\n",
    "    \"dir\": {\n",
    "        \"subdir1\": {\n",
    "            \"file1.ext\": True,\n",
    "            \"subsubdir1\": {}\n",
    "        },\n",
    "        \"subdir2\": {\n",
    "            \"subsubdir2\": {\n",
    "                \"file2.ext\": True\n",
    "            }\n",
    "        }\n",
    "    }\n",
    "}\n"
   ]
  },
  {
   "cell_type": "code",
   "execution_count": null,
   "metadata": {},
   "outputs": [],
   "source": [
    "\"\"\"where each key with a dictionary as its value represents a directory, and a key with True as its value represents an actual file.\n",
    "\n",
    "To achieve this, we can first split the string by the newline character, meaning each item in our array represents a file or directory. \n",
    "Then, we create an empty dictionary to represent our parsed file system and traverse the file system on each entry. \n",
    "We keep track of the last path we've seen so far in current_path because we may need to return to some level in that path, depending on the number of tabs. \n",
    "Once we are at the correct place to put down the new directory or file, we check the name for a . and set the correct value to either True (if file) or {} (if directory).\"\"\""
   ]
  },
  {
   "cell_type": "code",
   "execution_count": 2,
   "metadata": {},
   "outputs": [],
   "source": [
    "def build_fs(input):\n",
    "    fs = {}\n",
    "    files = input.split('\\n')\n",
    "\n",
    "    current_path = []\n",
    "    for f in files:\n",
    "        indentation = 0\n",
    "        while '\\t' in f[:2]:\n",
    "            indentation += 1\n",
    "            f = f[1:]\n",
    "\n",
    "        current_node = fs\n",
    "        for subdir in current_path[:indentation]:\n",
    "            current_node = current_node[subdir]\n",
    "\n",
    "        if '.' in f:\n",
    "            current_node[f] = True\n",
    "        else:\n",
    "            current_node[f] = {}\n",
    "\n",
    "        current_path = current_path[:indentation]\n",
    "        current_path.append(f)\n",
    "\n",
    "    return fs"
   ]
  },
  {
   "cell_type": "code",
   "execution_count": null,
   "metadata": {},
   "outputs": [],
   "source": [
    "\"\"\"Step 2: Computing the longest path\n",
    "After we've constructed a native representation of the file system, we can write a fairly straightforward recursive function that takes the current root, recursively calculates the longest_path of all the subdirectories and files under the root, and returns the longest one. \n",
    "Remember that since we specifically want the longest path to a file to discard any paths that do not have a . in them. And if there are no paths starting at this root, then we can simply return the empty string.\"\"\""
   ]
  },
  {
   "cell_type": "code",
   "execution_count": 3,
   "metadata": {},
   "outputs": [],
   "source": [
    "def longest_path(root):\n",
    "    paths = []\n",
    "    for key, node in root.items():\n",
    "        if node == True:\n",
    "            paths.append(key)\n",
    "        else:\n",
    "            paths.append(key + '/' + longest_path(node))\n",
    "    # filter out unfinished paths\n",
    "    paths = [path for path in paths if '.' in path]\n",
    "    if paths:\n",
    "        return max(paths, key=lambda path:len(path))\n",
    "    else:\n",
    "        return ''"
   ]
  },
  {
   "cell_type": "code",
   "execution_count": null,
   "metadata": {},
   "outputs": [],
   "source": [
    "\"\"\"Step 3: Putting it together\n",
    "Now that the hard part is done, we just need to put the two together:\"\"\""
   ]
  },
  {
   "cell_type": "code",
   "execution_count": 4,
   "metadata": {},
   "outputs": [],
   "source": [
    "def longest_absolute_path(s):\n",
    "    return len(longest_path(build_fs(s)))"
   ]
  },
  {
   "cell_type": "code",
   "execution_count": null,
   "metadata": {},
   "outputs": [],
   "source": [
    "\"\"\"This runs in O(n), since we iterate over the input string twice to build the file system, and then in the worst case we go through the string again to compute the longest path.\"\"\""
   ]
  }
 ],
 "metadata": {
  "kernelspec": {
   "display_name": "Python 3",
   "language": "python",
   "name": "python3"
  },
  "language_info": {
   "codemirror_mode": {
    "name": "ipython",
    "version": 3
   },
   "file_extension": ".py",
   "mimetype": "text/x-python",
   "name": "python",
   "nbconvert_exporter": "python",
   "pygments_lexer": "ipython3",
   "version": "3.8.3"
  },
  "toc": {
   "base_numbering": 1,
   "nav_menu": {},
   "number_sections": true,
   "sideBar": true,
   "skip_h1_title": false,
   "title_cell": "Table of Contents",
   "title_sidebar": "Contents",
   "toc_cell": false,
   "toc_position": {},
   "toc_section_display": true,
   "toc_window_display": false
  },
  "varInspector": {
   "cols": {
    "lenName": 16,
    "lenType": 16,
    "lenVar": 40
   },
   "kernels_config": {
    "python": {
     "delete_cmd_postfix": "",
     "delete_cmd_prefix": "del ",
     "library": "var_list.py",
     "varRefreshCmd": "print(var_dic_list())"
    },
    "r": {
     "delete_cmd_postfix": ") ",
     "delete_cmd_prefix": "rm(",
     "library": "var_list.r",
     "varRefreshCmd": "cat(var_dic_list()) "
    }
   },
   "types_to_exclude": [
    "module",
    "function",
    "builtin_function_or_method",
    "instance",
    "_Feature"
   ],
   "window_display": false
  }
 },
 "nbformat": 4,
 "nbformat_minor": 4
}
