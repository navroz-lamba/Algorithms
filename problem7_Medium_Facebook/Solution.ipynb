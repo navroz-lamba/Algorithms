{
 "cells": [
  {
   "cell_type": "code",
   "execution_count": 1,
   "metadata": {},
   "outputs": [
    {
     "data": {
      "text/plain": [
       "' This looks like a problem that is ripe for solving with recursion. First, let\\'s try to think of a recurrence we can use for this problem. We can try some cases:\\n\\n\"\", the empty string and our base case, should return 1.\\n\"1\" should return 1, since we can parse it as \"a\" + \"\".\\n\"11\" should return 2, since we can parse it as \"a\" + \"a\" + \"\" and \"k\" + \"\".\\n\"111\" should return 3, since we can parse it as:\\n\"a\" + \"k\" + \"\"\\n\"k\" + \"a\" + \"\"\\n\"a\" + \"a\" + \"a\" + \"\".\\n\"011\" should return 0, since no letter starts with 0 in our mapping.\\n\"602\" should also return 0 for similar reasons.\\nWe have a good starting point. We can see that the recursive structure is as follows:\\n\\nIf string starts with zero, then there\\'s no valid encoding.\\nIf the string\\'s length is less than or equal to 1, there is only 1 encoding.\\nIf the first two digits form a number k that is less than or equal to 26, we can recursively count the number of encodings assuming we pick k as a letter.\\nWe can also pick the first digit as a letter and count the number of encodings with this assumption. '"
      ]
     },
     "execution_count": 1,
     "metadata": {},
     "output_type": "execute_result"
    }
   ],
   "source": [
    "\"\"\" This looks like a problem that is ripe for solving with recursion. First, let's try to think of a recurrence we can use for this problem. We can try some cases:\n",
    "\n",
    "\"\", the empty string and our base case, should return 1.\n",
    "\"1\" should return 1, since we can parse it as \"a\" + \"\".\n",
    "\"11\" should return 2, since we can parse it as \"a\" + \"a\" + \"\" and \"k\" + \"\".\n",
    "\"111\" should return 3, since we can parse it as:\n",
    "\"a\" + \"k\" + \"\"\n",
    "\"k\" + \"a\" + \"\"\n",
    "\"a\" + \"a\" + \"a\" + \"\".\n",
    "\"011\" should return 0, since no letter starts with 0 in our mapping.\n",
    "\"602\" should also return 0 for similar reasons.\n",
    "We have a good starting point. We can see that the recursive structure is as follows:\n",
    "\n",
    "If string starts with zero, then there's no valid encoding.\n",
    "If the string's length is less than or equal to 1, there is only 1 encoding.\n",
    "If the first two digits form a number k that is less than or equal to 26, we can recursively count the number of encodings assuming we pick k as a letter.\n",
    "We can also pick the first digit as a letter and count the number of encodings with this assumption. \"\"\""
   ]
  },
  {
   "cell_type": "code",
   "execution_count": 2,
   "metadata": {},
   "outputs": [],
   "source": [
    "def num_encodings(s):\n",
    "    if s.startswith('0'):\n",
    "        return 0\n",
    "    elif len(s) <= 1: # This covers empty string\n",
    "        return 1\n",
    "\n",
    "    total = 0\n",
    "\n",
    "    if int(s[:2]) <= 26:\n",
    "        total += num_encodings(s[2:])\n",
    "\n",
    "    total += num_encodings(s[1:])\n",
    "    return total"
   ]
  },
  {
   "cell_type": "code",
   "execution_count": 3,
   "metadata": {},
   "outputs": [
    {
     "data": {
      "text/plain": [
       "'However, this solution is not very efficient. Every branch calls itself recursively twice, so our runtime is O(2n). We can do better by using dynamic programming.\\n\\nAll the following code does is repeat the same computation as above except starting from the base case and building up the solution. Since each iteration takes O(1), the whole algorithm now takes O(n).ipynb_checkpoints/'"
      ]
     },
     "execution_count": 3,
     "metadata": {},
     "output_type": "execute_result"
    }
   ],
   "source": [
    "\"\"\"However, this solution is not very efficient. Every branch calls itself recursively twice, so our runtime is O(2n). We can do better by using dynamic programming.\n",
    "\n",
    "All the following code does is repeat the same computation as above except starting from the base case and building up the solution. Since each iteration takes O(1), the whole algorithm now takes O(n).ipynb_checkpoints/\"\"\""
   ]
  },
  {
   "cell_type": "code",
   "execution_count": 4,
   "metadata": {},
   "outputs": [],
   "source": [
    "from collections import defaultdict\n",
    "\n",
    "def num_encodings(s):\n",
    "    # On lookup, this hashmap returns a default value of 0 if the key doesn't exist\n",
    "    # cache[i] gives us # of ways to encode the substring s[i:]\n",
    "    cache = defaultdict(int)\n",
    "    cache[len(s)] = 1 # Empty string is 1 valid encoding\n",
    "\n",
    "    for i in reversed(range(len(s))):\n",
    "        if s[i].startswith('0'):\n",
    "            cache[i] = 0\n",
    "        elif i == len(s) - 1:\n",
    "            cache[i] = 1\n",
    "        else:\n",
    "            if int(s[i:i + 2]) <= 26:\n",
    "                cache[i] = cache[i + 2]\n",
    "            cache[i] += cache[i + 1]\n",
    "    return cache[0]"
   ]
  }
 ],
 "metadata": {
  "kernelspec": {
   "display_name": "Python 3",
   "language": "python",
   "name": "python3"
  },
  "language_info": {
   "codemirror_mode": {
    "name": "ipython",
    "version": 3
   },
   "file_extension": ".py",
   "mimetype": "text/x-python",
   "name": "python",
   "nbconvert_exporter": "python",
   "pygments_lexer": "ipython3",
   "version": "3.8.3"
  },
  "toc": {
   "base_numbering": 1,
   "nav_menu": {},
   "number_sections": true,
   "sideBar": true,
   "skip_h1_title": false,
   "title_cell": "Table of Contents",
   "title_sidebar": "Contents",
   "toc_cell": false,
   "toc_position": {},
   "toc_section_display": true,
   "toc_window_display": false
  },
  "varInspector": {
   "cols": {
    "lenName": 16,
    "lenType": 16,
    "lenVar": 40
   },
   "kernels_config": {
    "python": {
     "delete_cmd_postfix": "",
     "delete_cmd_prefix": "del ",
     "library": "var_list.py",
     "varRefreshCmd": "print(var_dic_list())"
    },
    "r": {
     "delete_cmd_postfix": ") ",
     "delete_cmd_prefix": "rm(",
     "library": "var_list.r",
     "varRefreshCmd": "cat(var_dic_list()) "
    }
   },
   "types_to_exclude": [
    "module",
    "function",
    "builtin_function_or_method",
    "instance",
    "_Feature"
   ],
   "window_display": false
  }
 },
 "nbformat": 4,
 "nbformat_minor": 4
}
