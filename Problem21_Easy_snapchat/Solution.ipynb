{
 "cells": [
  {
   "cell_type": "code",
   "execution_count": null,
   "metadata": {},
   "outputs": [],
   "source": []
  },
  {
   "cell_type": "code",
   "execution_count": null,
   "metadata": {},
   "outputs": [],
   "source": [
    "\"\"\"First, notice that the minimum number of classroom halls is the maximum number of overlapping intervals.\n",
    "\n",
    "Now let's consider the naive approach. We could go through each interval and check every other interval and see if it overlaps, keeping track of the largest number of overlapping intervals.\"\"\""
   ]
  },
  {
   "cell_type": "code",
   "execution_count": 1,
   "metadata": {},
   "outputs": [],
   "source": [
    "def overlaps(a, b):\n",
    "    start_a, end_a = a\n",
    "    start_b, end_b = b\n",
    "    # It doesn't overlap if it's like this:\n",
    "    #   |start_a .... end_a|  <---> |start_b ... end_b|\n",
    "    # or like this:\n",
    "    #   |start_b .... end_b|  <---> |start_a ... end_a|\n",
    "    # so return not or either of these\n",
    "    return not (end_a < start_b or start_a > end_b)\n",
    "\n",
    "def max_overlapping(intervals):\n",
    "    current_max = 0\n",
    "    for interval in intervals:\n",
    "        num_overlapping = sum(overlaps(interval, other_interval)\n",
    "            for other_interval in intervals\n",
    "            if interval is not other_interval)\n",
    "        current_max = max(current_max, num_overlapping)\n",
    "    return current_max"
   ]
  },
  {
   "cell_type": "code",
   "execution_count": null,
   "metadata": {},
   "outputs": [],
   "source": [
    "\"\"\"This would take O(n^2) time, since we're checking each interval pairwise. Can we do any better?\n",
    "\n",
    "One solution is to extract the start times and end times of all the intervals and sort them. Then we can start two pointers on each list, and consider the following:\n",
    "\n",
    "If the current start is before the current end, then we have a new overlap. Increment the start pointer.\n",
    "If the current start is after the current end, then our overlap closes. Increment the end pointer.\n",
    "All that's left to do is keep a couple variables to keep track of the maximum number of overlaps we've seen so far and the current number of overlaps.\"\"\""
   ]
  },
  {
   "cell_type": "code",
   "execution_count": 2,
   "metadata": {},
   "outputs": [],
   "source": [
    "def max_overlapping(intervals):\n",
    "    starts = sorted(start for start, end in intervals)\n",
    "    ends = sorted(end for start, end in intervals)\n",
    "\n",
    "    current_max = 0\n",
    "    current_overlap = 0\n",
    "    i, j = 0, 0\n",
    "    while i < len(intervals) and j < len(intervals):\n",
    "        if starts[i] < ends[j]:\n",
    "            current_overlap += 1\n",
    "            current_max = max(current_max, current_overlap)\n",
    "            i += 1\n",
    "        else:\n",
    "            current_overlap -= 1\n",
    "            j += 1\n",
    "    return current_max\n"
   ]
  },
  {
   "cell_type": "markdown",
   "metadata": {},
   "source": [
    "This runs in O(n log n) time, since we have to sort the intervals."
   ]
  }
 ],
 "metadata": {
  "kernelspec": {
   "display_name": "Python 3",
   "language": "python",
   "name": "python3"
  },
  "language_info": {
   "codemirror_mode": {
    "name": "ipython",
    "version": 3
   },
   "file_extension": ".py",
   "mimetype": "text/x-python",
   "name": "python",
   "nbconvert_exporter": "python",
   "pygments_lexer": "ipython3",
   "version": "3.8.3"
  },
  "toc": {
   "base_numbering": 1,
   "nav_menu": {},
   "number_sections": true,
   "sideBar": true,
   "skip_h1_title": false,
   "title_cell": "Table of Contents",
   "title_sidebar": "Contents",
   "toc_cell": false,
   "toc_position": {},
   "toc_section_display": true,
   "toc_window_display": false
  },
  "varInspector": {
   "cols": {
    "lenName": 16,
    "lenType": 16,
    "lenVar": 40
   },
   "kernels_config": {
    "python": {
     "delete_cmd_postfix": "",
     "delete_cmd_prefix": "del ",
     "library": "var_list.py",
     "varRefreshCmd": "print(var_dic_list())"
    },
    "r": {
     "delete_cmd_postfix": ") ",
     "delete_cmd_prefix": "rm(",
     "library": "var_list.r",
     "varRefreshCmd": "cat(var_dic_list()) "
    }
   },
   "types_to_exclude": [
    "module",
    "function",
    "builtin_function_or_method",
    "instance",
    "_Feature"
   ],
   "window_display": false
  }
 },
 "nbformat": 4,
 "nbformat_minor": 4
}
