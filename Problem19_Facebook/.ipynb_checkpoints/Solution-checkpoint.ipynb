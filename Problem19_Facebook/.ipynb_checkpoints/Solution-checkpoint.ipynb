{
 "cells": [
  {
   "cell_type": "code",
   "execution_count": null,
   "metadata": {},
   "outputs": [],
   "source": [
    "\"\"\"The brute force solution here would be to generate all possible combinations of houses and colors, filter out invalid combinations, and keep track of the lowest cost seen. This would take O(N^K) time.\n",
    "\n",
    "We can solve this problem faster using dynamic programming. We can maintain a matrix cache where every entry [i][j] represents the minimum cost of painting house i the color j, as well as painting every house < i. We can calculate this by looking at the minimum cost of painting each house < i - 1, and painting house i - 1 any color except j, since that would break our constraint. We'll initialize the first row with zeroes to start. Then, we just have to look at the smallest value in the last row of our cache, since that represents the minimum cost of painting every house.\"\"\""
   ]
  },
  {
   "cell_type": "code",
   "execution_count": 1,
   "metadata": {},
   "outputs": [],
   "source": [
    "def build_houses(matrix):\n",
    "    n = len(matrix)\n",
    "    k = len(matrix[0])\n",
    "    solution_matrix = [[0] * k]\n",
    "\n",
    "    # Solution matrix: matrix[i][j] represents the minimum cost to build house i with color j.\n",
    "    for r, row in enumerate(matrix):\n",
    "        row_cost = []\n",
    "        for c, val in enumerate(row):\n",
    "            row_cost.append(min(solution_matrix[r][i] for i in range(k) if i != c) + val)\n",
    "        solution_matrix.append(row_cost)\n",
    "    return min(solution_matrix[-1])"
   ]
  },
  {
   "cell_type": "code",
   "execution_count": null,
   "metadata": {},
   "outputs": [],
   "source": [
    "\"\"\"his runs in O(N K^2) time and O(N K) space. Can we do even better than this?\n",
    "\n",
    "First off, notice that we're only ever looking at the last row when computing the next row's cost. That suggests that we only need to keep track of one array of size K instead of a whole matrix of size N * K:\"\"\""
   ]
  },
  {
   "cell_type": "code",
   "execution_count": 2,
   "metadata": {},
   "outputs": [],
   "source": [
    "def build_houses(matrix):\n",
    "    k = len(matrix[0])\n",
    "    soln_row = [0] * k\n",
    "\n",
    "    for r, row in enumerate(matrix):\n",
    "        new_row = []\n",
    "        for c, val in enumerate(row):\n",
    "            new_row.append(min(soln_row[i] for i in range(k) if i != c) + val)\n",
    "        soln_row = new_row\n",
    "    return min(soln_row)"
   ]
  },
  {
   "cell_type": "code",
   "execution_count": null,
   "metadata": {},
   "outputs": [],
   "source": [
    "\"\"\"Now we're only using O(K) space! Can we improve this any more?\n",
    "\n",
    "Hold on a second. When we're looking at the previous row's total cost, it looks like we're almost computing the same thing each time: the minimum of the previous row that isn't the current index.\n",
    "\n",
    "For every element that isn't that index, it will be the same value. When it is that index, it will be the second-smallest value.\n",
    "\n",
    "Now, armed with this insight, we only need to keep track of three variables:\n",
    "\n",
    "The lowest cost of the current row\n",
    "The index of the lowest cost\n",
    "The second lowest cost\n",
    "Then, when looking at the value at each row, we only need to do the following:\n",
    "\n",
    "Check if the index is the index of the lowest cost of the previous row. If it is, then we can't use this color -- we'll use the second lowest cost instead. Otherwise, use the lowest cost of the previous row\n",
    "Calculate the minimum cost if we painted this house this particular color\n",
    "Update our new lowest cost/index or second lowest cost if appropriate\n",
    "Now we'll always have our lowest cost in a variable, and once we've gone through the matrix we can just return that.\"\"\""
   ]
  },
  {
   "cell_type": "code",
   "execution_count": 3,
   "metadata": {},
   "outputs": [],
   "source": [
    "from math import inf\n",
    "\n",
    "def build_houses(matrix):\n",
    "    lowest_cost, lowest_cost_index = 0, -1\n",
    "    second_lowest_cost = 0\n",
    "\n",
    "    for r, row in enumerate(matrix):\n",
    "        new_lowest_cost, new_lowest_cost_index = inf, -1\n",
    "        new_second_lowest_cost = inf\n",
    "        for c, val in enumerate(row):\n",
    "            prev_lowest_cost = second_lowest_cost if c == lowest_cost_index else lowest_cost\n",
    "            cost = prev_lowest_cost + val\n",
    "            if cost < new_lowest_cost:\n",
    "                new_second_lowest_cost = new_lowest_cost\n",
    "                new_lowest_cost, new_lowest_cost_index = cost, c\n",
    "            elif cost < new_second_lowest_cost:\n",
    "                new_second_lowest_cost = cost\n",
    "        lowest_cost = new_lowest_cost\n",
    "        lowest_cost_index = new_lowest_cost_index\n",
    "        second_lowest_cost = new_second_lowest_cost\n",
    "\n",
    "    return lowest_cost"
   ]
  },
  {
   "cell_type": "code",
   "execution_count": null,
   "metadata": {},
   "outputs": [],
   "source": [
    "\"\"\"Now the runtime is only O(N * K) and the space complexity is O(1) - constant, since we keep track of only three variables!\n",
    "\n",
    "Thanks to Alexander Shirkov for pointing out these optimizations!\"\"\""
   ]
  }
 ],
 "metadata": {
  "kernelspec": {
   "display_name": "Python 3",
   "language": "python",
   "name": "python3"
  },
  "language_info": {
   "codemirror_mode": {
    "name": "ipython",
    "version": 3
   },
   "file_extension": ".py",
   "mimetype": "text/x-python",
   "name": "python",
   "nbconvert_exporter": "python",
   "pygments_lexer": "ipython3",
   "version": "3.8.3"
  },
  "toc": {
   "base_numbering": 1,
   "nav_menu": {},
   "number_sections": true,
   "sideBar": true,
   "skip_h1_title": false,
   "title_cell": "Table of Contents",
   "title_sidebar": "Contents",
   "toc_cell": false,
   "toc_position": {},
   "toc_section_display": true,
   "toc_window_display": false
  },
  "varInspector": {
   "cols": {
    "lenName": 16,
    "lenType": 16,
    "lenVar": 40
   },
   "kernels_config": {
    "python": {
     "delete_cmd_postfix": "",
     "delete_cmd_prefix": "del ",
     "library": "var_list.py",
     "varRefreshCmd": "print(var_dic_list())"
    },
    "r": {
     "delete_cmd_postfix": ") ",
     "delete_cmd_prefix": "rm(",
     "library": "var_list.r",
     "varRefreshCmd": "cat(var_dic_list()) "
    }
   },
   "types_to_exclude": [
    "module",
    "function",
    "builtin_function_or_method",
    "instance",
    "_Feature"
   ],
   "window_display": false
  }
 },
 "nbformat": 4,
 "nbformat_minor": 4
}
