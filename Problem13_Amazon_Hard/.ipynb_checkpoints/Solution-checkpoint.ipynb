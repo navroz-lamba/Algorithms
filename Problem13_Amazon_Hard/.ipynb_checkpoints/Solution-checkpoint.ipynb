{
 "cells": [
  {
   "cell_type": "code",
   "execution_count": null,
   "metadata": {},
   "outputs": [],
   "source": [
    "\"\"\"The most obvious brute force solution here is to simply try every possible substring of the string and check whether it contains at most k distinct characters. \n",
    "If it does and it is greater than the current longest valid substring, then update the current one. This takes O(n2 * k) time, since we use n2 to generate each possible substring, and then take k to check each character.\"\"\""
   ]
  },
  {
   "cell_type": "code",
   "execution_count": 1,
   "metadata": {},
   "outputs": [],
   "source": [
    "def longest_substring_with_k_distinct_characters(s, k):\n",
    "    current_longest_substring = ''\n",
    "    for i in range(len(s)):\n",
    "        for j in range(i + 1, len(s) + 1):\n",
    "            substring = s[i:j]\n",
    "            if len(set(substring)) <= k and len(substring) > len(current_longest_substring):\n",
    "                current_longest_substring = substring\n",
    "    return len(current_longest_substring)"
   ]
  },
  {
   "cell_type": "code",
   "execution_count": null,
   "metadata": {},
   "outputs": [],
   "source": [
    "\"\"\"We can improve this by instead keeping a running window of our longest substring. We'll keep a dictionary that maps characters to the index of their last occurrence. \n",
    "Then, as we iterate over the string, we'll check the size of the dictionary. If it's larger than k, then it means our window is too big, so we have to pop the smallest item in the dictionary and recompute the bounds. \n",
    "If, when we add a character to the dictionary and it doesn't go over k, then we're safe -- the dictionary hasn't been filled up yet or it's a character we've seen before.\"\"\""
   ]
  },
  {
   "cell_type": "code",
   "execution_count": 2,
   "metadata": {},
   "outputs": [],
   "source": [
    "def longest_substring_with_k_distinct_characters(s, k):\n",
    "    if k == 0:\n",
    "        return 0\n",
    "\n",
    "    # Keep a running window\n",
    "    bounds = (0, 0)\n",
    "    h = {}\n",
    "    max_length = 0\n",
    "    for i, char in enumerate(s):\n",
    "        h[char] = i\n",
    "        if len(h) <= k:\n",
    "            new_lower_bound = bounds[0] # lower bound remains the same\n",
    "        else:\n",
    "            # otherwise, pop last occurring char\n",
    "            key_to_pop = min(h, key=h.get)\n",
    "            new_lower_bound = h.pop(key_to_pop) + 1\n",
    "\n",
    "        bounds = (new_lower_bound, bounds[1] + 1)\n",
    "        max_length = max(max_length, bounds[1] - bounds[0])\n",
    "\n",
    "    return max_length"
   ]
  },
  {
   "cell_type": "markdown",
   "metadata": {},
   "source": [
    "This takes O(n * k) time and O(k) space."
   ]
  }
 ],
 "metadata": {
  "kernelspec": {
   "display_name": "Python 3",
   "language": "python",
   "name": "python3"
  },
  "language_info": {
   "codemirror_mode": {
    "name": "ipython",
    "version": 3
   },
   "file_extension": ".py",
   "mimetype": "text/x-python",
   "name": "python",
   "nbconvert_exporter": "python",
   "pygments_lexer": "ipython3",
   "version": "3.8.3"
  },
  "toc": {
   "base_numbering": 1,
   "nav_menu": {},
   "number_sections": true,
   "sideBar": true,
   "skip_h1_title": false,
   "title_cell": "Table of Contents",
   "title_sidebar": "Contents",
   "toc_cell": false,
   "toc_position": {},
   "toc_section_display": true,
   "toc_window_display": false
  },
  "varInspector": {
   "cols": {
    "lenName": 16,
    "lenType": 16,
    "lenVar": 40
   },
   "kernels_config": {
    "python": {
     "delete_cmd_postfix": "",
     "delete_cmd_prefix": "del ",
     "library": "var_list.py",
     "varRefreshCmd": "print(var_dic_list())"
    },
    "r": {
     "delete_cmd_postfix": ") ",
     "delete_cmd_prefix": "rm(",
     "library": "var_list.r",
     "varRefreshCmd": "cat(var_dic_list()) "
    }
   },
   "types_to_exclude": [
    "module",
    "function",
    "builtin_function_or_method",
    "instance",
    "_Feature"
   ],
   "window_display": false
  }
 },
 "nbformat": 4,
 "nbformat_minor": 4
}
