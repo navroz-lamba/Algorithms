{
 "cells": [
  {
   "cell_type": "code",
   "execution_count": 2,
   "metadata": {},
   "outputs": [
    {
     "data": {
      "text/plain": [
       "\"For the head, both will just be the address of next, and if it's the tail, it should just be the address of prev. And intermediate nodes should have an XOR of next and prev.\\n\\nHere's an example XOR linked list which meets the above conditions:\\n\\nA    <->    B    <->    C    <->    D\\n\\nB         A ⊕ C       B ⊕ D         C\\nLet's work through get first, assuming that the above conditions are maintained. Then, given a node, to go to the next node, we have to XOR the current node's both with the previous node's address. And to handle getting the next node from the head, we would initialize the previous node's address as 0.\\n\\nSo in the above example, A's both is B which when XOR'd with 0 would become B. Then B's both is A ⊕ C, which when XOR'd with A becomes C, etc.\\n\\nTo implement add, we would need to update current tail's both to be XOR'd by its current both the new node's memory address. Then the new node's both would just point to the memory address of the current tail. Finally, we'd update the current tail to be equal to the new node. \""
      ]
     },
     "execution_count": 2,
     "metadata": {},
     "output_type": "execute_result"
    }
   ],
   "source": [
    "\"\"\"For the head, both will just be the address of next, and if it's the tail, it should just be the address of prev. And intermediate nodes should have an XOR of next and prev.\n",
    "\n",
    "Here's an example XOR linked list which meets the above conditions:\n",
    "\n",
    "A    <->    B    <->    C    <->    D\n",
    "\n",
    "B         A ⊕ C       B ⊕ D         C\n",
    "Let's work through get first, assuming that the above conditions are maintained. Then, given a node, to go to the next node, we have to XOR the current node's both with the previous node's address. And to handle getting the next node from the head, we would initialize the previous node's address as 0.\n",
    "\n",
    "So in the above example, A's both is B which when XOR'd with 0 would become B. Then B's both is A ⊕ C, which when XOR'd with A becomes C, etc.\n",
    "\n",
    "To implement add, we would need to update current tail's both to be XOR'd by its current both the new node's memory address. Then the new node's both would just point to the memory address of the current tail. Finally, we'd update the current tail to be equal to the new node. \"\"\""
   ]
  },
  {
   "cell_type": "code",
   "execution_count": 1,
   "metadata": {},
   "outputs": [],
   "source": [
    "import ctypes\n",
    "\n",
    "\n",
    "# This is hacky. It's a data structure for C, not python.\n",
    "class Node(object):\n",
    "    def __init__(self, val):\n",
    "        self.val = val\n",
    "        self.both = 0\n",
    "\n",
    "\n",
    "class XorLinkedList(object):\n",
    "    def __init__(self):\n",
    "        self.head = self.tail = None\n",
    "        self.__nodes = [] # This is to prevent garbage collection\n",
    "\n",
    "    def add(self, node):\n",
    "        if self.head is None:\n",
    "            self.head = self.tail = node\n",
    "        else:\n",
    "            self.tail.both = id(node) ^ self.tail.both\n",
    "            node.both = id(self.tail)\n",
    "            self.tail = node\n",
    "\n",
    "        # Without this line, Python thinks there is no way to reach nodes between\n",
    "        # head and tail.\n",
    "        self.__nodes.append(node)\n",
    "\n",
    "\n",
    "    def get(self, index):\n",
    "        prev_id = 0\n",
    "        node = self.head\n",
    "        for i in range(index):\n",
    "            next_id = prev_id ^ node.both\n",
    "\n",
    "            if next_id:\n",
    "                prev_id = id(node)\n",
    "                node = _get_obj(next_id)\n",
    "            else:\n",
    "                raise IndexError('Linked list index out of range')\n",
    "        return node\n",
    "\n",
    "\n",
    "def _get_obj(id):\n",
    "    return ctypes.cast(id, ctypes.py_object).value"
   ]
  },
  {
   "cell_type": "code",
   "execution_count": 3,
   "metadata": {},
   "outputs": [],
   "source": [
    "# add runs in O(1) time and get runs in O(N) time."
   ]
  }
 ],
 "metadata": {
  "kernelspec": {
   "display_name": "Python 3",
   "language": "python",
   "name": "python3"
  },
  "language_info": {
   "codemirror_mode": {
    "name": "ipython",
    "version": 3
   },
   "file_extension": ".py",
   "mimetype": "text/x-python",
   "name": "python",
   "nbconvert_exporter": "python",
   "pygments_lexer": "ipython3",
   "version": "3.8.3"
  },
  "toc": {
   "base_numbering": 1,
   "nav_menu": {},
   "number_sections": true,
   "sideBar": true,
   "skip_h1_title": false,
   "title_cell": "Table of Contents",
   "title_sidebar": "Contents",
   "toc_cell": false,
   "toc_position": {},
   "toc_section_display": true,
   "toc_window_display": false
  },
  "varInspector": {
   "cols": {
    "lenName": 16,
    "lenType": 16,
    "lenVar": 40
   },
   "kernels_config": {
    "python": {
     "delete_cmd_postfix": "",
     "delete_cmd_prefix": "del ",
     "library": "var_list.py",
     "varRefreshCmd": "print(var_dic_list())"
    },
    "r": {
     "delete_cmd_postfix": ") ",
     "delete_cmd_prefix": "rm(",
     "library": "var_list.r",
     "varRefreshCmd": "cat(var_dic_list()) "
    }
   },
   "types_to_exclude": [
    "module",
    "function",
    "builtin_function_or_method",
    "instance",
    "_Feature"
   ],
   "window_display": false
  }
 },
 "nbformat": 4,
 "nbformat_minor": 4
}
